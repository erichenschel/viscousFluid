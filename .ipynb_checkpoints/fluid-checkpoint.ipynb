{
 "cells": [
  {
   "cell_type": "code",
   "execution_count": 1,
   "metadata": {},
   "outputs": [],
   "source": [
    "import numpy as np\n",
    "import pandas as pd\n"
   ]
  },
  {
   "cell_type": "code",
   "execution_count": 2,
   "metadata": {},
   "outputs": [],
   "source": [
    "step = 0.01 # -- time step\n",
    "mass = 1.0 #kg -- mass\n",
    "g = 9.81 #m/s/s -- gravity\n",
    "        \n",
    "vo = 5.0 #m/s -- initial velocity\n",
    "yo = 0.0 #m -- initial position\n",
    "to = 0.0 #s -- initial time\n",
    "        \n",
    "density = 1000 #kg/m3 -- density of water\n",
    "mu = 8.9 * 10**(-4) #Pa s -- viscosity (water at 25 deg celsius)\n",
    "radius = 0.01 #m (1 cm) -- radius"
   ]
  },
  {
   "cell_type": "code",
   "execution_count": 3,
   "metadata": {},
   "outputs": [],
   "source": [
    "# coeff\n",
    "def b():\n",
    "    return (6 * np.pi) * mu * radius"
   ]
  },
  {
   "cell_type": "code",
   "execution_count": null,
   "metadata": {},
   "outputs": [],
   "source": [
    "# y'' = f(v) = acceleration (changed return to addition from subtraction)\n",
    "def f(v):\n",
    "    zo = b() * v / mass\n",
    "    return (-g + zo)"
   ]
  },
  {
   "cell_type": "code",
   "execution_count": null,
   "metadata": {},
   "outputs": [],
   "source": [
    "# velocity calculated with Euler\n",
    "def euler_vel():\n",
    "    time = [to]\n",
    "    vel = [vo]\n",
    "\n",
    "    for i in range(75):\n",
    "        v = vel[i]\n",
    "        a = f(v)\n",
    "        vn = v + a * step\n",
    "        if vn <=0:\n",
    "            vel.append(0)\n",
    "        else:\n",
    "            vel.append(vn)\n",
    "\n",
    "        time.append(step*float(i+1))\n",
    "    return time, vel"
   ]
  },
  {
   "cell_type": "code",
   "execution_count": null,
   "metadata": {},
   "outputs": [],
   "source": [
    "# position calculated with Euler\n",
    "def euler_pos(v):\n",
    "    pos = [yo]\n",
    "\n",
    "    for i in range(75):\n",
    "        y = pos[i]\n",
    "        f = v[i]\n",
    "        yn = y + f * step\n",
    "        pos.append(yn)\n",
    "\n",
    "    return pos"
   ]
  },
  {
   "cell_type": "code",
   "execution_count": null,
   "metadata": {},
   "outputs": [],
   "source": [
    "# analytical position model \n",
    "def pos(t):\n",
    "    position = []\n",
    "\n",
    "    for i in range(len(t)):\n",
    "        zo = (-5.0) * mass / b()\n",
    "        z1 = -g * (mass**2) / (b()**2)\n",
    "\n",
    "        e = np.exp(-b() * t[i] / mass)\n",
    "        z2 = (5.0 * mass) / b()\n",
    "        z3 = (g * mass**2) / (b()**2)\n",
    "        z4 = (-g * mass * t[i]) / b()\n",
    "        \n",
    "        y = ((zo + z1) * e + z2 + z3 + z4)\n",
    "        if y<=0:            \n",
    "            position.append(0)\n",
    "        else:\n",
    "            position.append(y)\n",
    "\n",
    "    return position"
   ]
  },
  {
   "cell_type": "code",
   "execution_count": null,
   "metadata": {},
   "outputs": [],
   "source": [
    "# analytical velocity model\n",
    "def vel(t):\n",
    "    velocity = []\n",
    "\n",
    "    for i in range(len(t)):\n",
    "        zo = (-5.0) * mass / b()\n",
    "        z1 = -g * (mass**2) / (b()**2)\n",
    "        z2 = (-b()/mass)\n",
    "\n",
    "        e = np.exp(-b() * t[i] / mass)\n",
    "        z3 = -g * mass / b()\n",
    "        \n",
    "        v = (zo + z1) * z2 * e + z3\n",
    "        if v<=0:\n",
    "            velocity.append(0)\n",
    "        else:\n",
    "            velocity.append(v)\n",
    "\n",
    "    return velocity"
   ]
  },
  {
   "cell_type": "code",
   "execution_count": null,
   "metadata": {},
   "outputs": [],
   "source": [
    "# euler error eval\n",
    "def euler_err():\n",
    "    t = euler_vel()[0]\n",
    "    vel = vel(t)\n",
    "    pos = pos(t)\n",
    "\n",
    "    v = euler_vel()[1]\n",
    "    y = euler_pos(v)\n",
    "\n",
    "    df = pd.DataFrame({'time': t, 'Velocity': v, 'Euler_vel': vel})\n",
    "    e_y = []\n",
    "    e_v = []\n",
    "\n",
    "    for i in range(df.shape[0]):\n",
    "        e_v.append(np.abs(df['Velocity'][i]-df['Euler_vel'][i]))\n",
    "\n",
    "    df['Euler_vel_err'] = e_v\n",
    "    df['Position'] = pos\n",
    "    df['Euler_pos'] = y\n",
    "\n",
    "    for i in range(df.shape[0]):\n",
    "        e_y.append(np.abs(df['Position'][i]-df['Euler_pos'][i]))\n",
    "\n",
    "    df['Euler_pos_err'] = e_y\n",
    "\n",
    "    return df"
   ]
  },
  {
   "cell_type": "code",
   "execution_count": null,
   "metadata": {},
   "outputs": [],
   "source": [
    "# quality control\n",
    "def rk_vel():\n",
    "    time = [to]\n",
    "    vel = [vo]\n",
    "\n",
    "    for i in range(75):\n",
    "        v = vel[i]\n",
    "        vn = v + f(v+step*f(v)) * step\n",
    "        if vn<=0:\n",
    "            vel.append(0)\n",
    "        else:\n",
    "            vel.append(vn)\n",
    "\n",
    "    return vel"
   ]
  },
  {
   "cell_type": "code",
   "execution_count": null,
   "metadata": {},
   "outputs": [],
   "source": [
    "# re-examine this function\n",
    "def rk_pos(self, v):\n",
    "    time = [self.to]\n",
    "    pos = [self.yo]\n",
    "\n",
    "    for i in range(75):\n",
    "        y = pos[i]\n",
    "        a = v[i]\n",
    "        yn = y + a * self.step\n",
    "        pos.append(yn)\n",
    "\n",
    "    return pos"
   ]
  },
  {
   "cell_type": "code",
   "execution_count": null,
   "metadata": {},
   "outputs": [],
   "source": [
    "#rk error eval\n",
    "def rk_err(self):\n",
    "    t = self.euler_vel()[0]\n",
    "    vel = self.vel(t)\n",
    "    pos = self.pos(t)\n",
    "\n",
    "    v = self.rk_vel()\n",
    "    y = self.rk_pos(v)\n",
    "\n",
    "    df = pd.DataFrame({'time': t, 'Velocity': vel, 'rk_vel': v})\n",
    "    e_y = []\n",
    "    e_v = []\n",
    "\n",
    "    for i in range(df.shape[0]):\n",
    "        e_v.append(np.abs(df['Velocity'][i]-df['rk_vel'][i]))\n",
    "\n",
    "    df['rk_vel_error'] = e_v\n",
    "    df['Position'] = pos\n",
    "    df['rk_pos'] = y\n",
    "\n",
    "    for i in range(df.shape[0]):\n",
    "        e_y.append(np.abs(df['Position'][i]-df['rk_pos'][i]))\n",
    "\n",
    "    df['rk_pos_err'] = e_y\n",
    "\n",
    "    return df"
   ]
  },
  {
   "cell_type": "code",
   "execution_count": null,
   "metadata": {},
   "outputs": [],
   "source": [
    "if __name__== \"__main__\":\n",
    "C = calc()\n",
    "print(C.euler_err())\n",
    "print(C.rk_err())"
   ]
  },
  {
   "cell_type": "code",
   "execution_count": null,
   "metadata": {},
   "outputs": [],
   "source": []
  },
  {
   "cell_type": "code",
   "execution_count": null,
   "metadata": {},
   "outputs": [],
   "source": []
  },
  {
   "cell_type": "code",
   "execution_count": null,
   "metadata": {},
   "outputs": [],
   "source": []
  },
  {
   "cell_type": "code",
   "execution_count": null,
   "metadata": {},
   "outputs": [],
   "source": []
  },
  {
   "cell_type": "code",
   "execution_count": null,
   "metadata": {},
   "outputs": [],
   "source": []
  }
 ],
 "metadata": {
  "kernelspec": {
   "display_name": "Python 3",
   "language": "python",
   "name": "python3"
  },
  "language_info": {
   "codemirror_mode": {
    "name": "ipython",
    "version": 3
   },
   "file_extension": ".py",
   "mimetype": "text/x-python",
   "name": "python",
   "nbconvert_exporter": "python",
   "pygments_lexer": "ipython3",
   "version": "3.7.6"
  }
 },
 "nbformat": 4,
 "nbformat_minor": 4
}
